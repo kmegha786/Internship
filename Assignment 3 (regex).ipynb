{
 "cells": [
  {
   "cell_type": "code",
   "execution_count": 11,
   "id": "bbbbe445",
   "metadata": {},
   "outputs": [
    {
     "name": "stdout",
     "output_type": "stream",
     "text": [
      "Python:Exercises::PHP:exercises:\n"
     ]
    }
   ],
   "source": [
    "# Replace space,comma and dots with colon\n",
    "\n",
    "text = 'Python Exercises, PHP exercises.'\n",
    "text = text.replace(' ', ':')\n",
    "text = text.replace(',', ':')\n",
    "text = text.replace('.', ':')\n",
    "print(text)"
   ]
  },
  {
   "cell_type": "code",
   "execution_count": 19,
   "id": "b8b7ce5c",
   "metadata": {},
   "outputs": [
    {
     "name": "stdout",
     "output_type": "stream",
     "text": [
      "['apples', 'and', 'eggs']\n"
     ]
    }
   ],
   "source": [
    "# Write a Python program to find all words starting with 'a' or 'e' in a given string.\n",
    "\n",
    "import re\n",
    "pattern =\"[ae]\\w+\"\n",
    "text = \"Vikram bought apples and eggs\"\n",
    "matches = re.findall(pattern,text)\n",
    "print(matches)"
   ]
  },
  {
   "cell_type": "code",
   "execution_count": 14,
   "id": "75d1d994",
   "metadata": {},
   "outputs": [
    {
     "name": "stdout",
     "output_type": "stream",
     "text": [
      "['Jack', 'Jill', 'went', 'hill', 'pail']\n"
     ]
    }
   ],
   "source": [
    "#Create a function in python to find all words that are at least 4 characters long in a string.\n",
    "\n",
    "import re\n",
    "str1 = 'Jack and Jill went up the hill to fetch a pail of water.'\n",
    "pattern = re.compile( r\"\\b\\w{4}\\b\")\n",
    "result = pattern.findall(str1)\n",
    "print(result)"
   ]
  },
  {
   "cell_type": "code",
   "execution_count": 18,
   "id": "087139e3",
   "metadata": {},
   "outputs": [
    {
     "name": "stdout",
     "output_type": "stream",
     "text": [
      "['The', 'quick', 'brown', 'fox', 'jumps', 'over', 'the', 'lazy', 'dog']\n"
     ]
    }
   ],
   "source": [
    "# Create a function in python to find all three, four, and five character words in a string.\n",
    "\n",
    "text = \"The quick brown fox jumps over the lazy dog\"\n",
    "pattern = re.compile(r\"\\b\\w{3,5}\\b\")\n",
    "result = pattern.findall(text)\n",
    "print(result)                    "
   ]
  },
  {
   "cell_type": "code",
   "execution_count": 6,
   "id": "f567dbad",
   "metadata": {},
   "outputs": [
    {
     "name": "stdout",
     "output_type": "stream",
     "text": [
      "['Importance', 'Of', 'Regular', 'Expressions', 'In', 'Python']\n"
     ]
    }
   ],
   "source": [
    "# Write a regular expression in Python to split a string into uppercase letters.\n",
    "\n",
    "\n",
    "import re\n",
    "text = \"ImportanceOfRegularExpressionsInPython\"\n",
    "x = re.findall('[A-Z][^A-Z]*', text)\n",
    "print(x)"
   ]
  },
  {
   "cell_type": "code",
   "execution_count": 9,
   "id": "8d4506eb",
   "metadata": {},
   "outputs": [
    {
     "name": "stdout",
     "output_type": "stream",
     "text": [
      "RegularExpression 1IsAn 2ImportantTopic 3InPython\n"
     ]
    }
   ],
   "source": [
    "# Create a function in python to insert spaces between words starting with numbers.\n",
    "\n",
    "\n",
    "import re\n",
    "\n",
    "def insert_spaces(text):\n",
    "    text = re.sub(r\"(\\d)\", r\" \\1\", text)\n",
    "    return text\n",
    "sample_text = \"RegularExpression1IsAn2ImportantTopic3InPython\"\n",
    "print(insert_spaces(sample_text))\n"
   ]
  },
  {
   "cell_type": "code",
   "execution_count": 10,
   "id": "40f25ae8",
   "metadata": {},
   "outputs": [
    {
     "name": "stdout",
     "output_type": "stream",
     "text": [
      " Regular Expression 1 Is An 2 Important Topic 3 In Python\n"
     ]
    }
   ],
   "source": [
    "# - Create a function in python to insert spaces between words starting with capital letters or with numbers.\n",
    "\n",
    "\n",
    "import re\n",
    "\n",
    "\n",
    "def insert_spaces(text):\n",
    "    text = re.sub(r\"([A-Z]|\\d)\", r\" \\1\", text)\n",
    "    return text\n",
    "sample_text = \"RegularExpression1IsAn2ImportantTopic3InPython\"\n",
    "print(insert_spaces(sample_text))\n"
   ]
  },
  {
   "cell_type": "code",
   "execution_count": 36,
   "id": "1cf6c869",
   "metadata": {},
   "outputs": [
    {
     "name": "stdout",
     "output_type": "stream",
     "text": [
      "fox' (16, 19)\n",
      "dog' (40, 43)\n",
      "The word 'horse' is not found in the text\n"
     ]
    }
   ],
   "source": [
    "# Write a Python program to search some literals strings in a string.\n",
    "\n",
    "\n",
    "import re\n",
    "\n",
    "text = 'The quick brown fox jumps over the lazy dog.'\n",
    "words = ['fox', 'dog', 'horse']\n",
    "\n",
    "for word in words:\n",
    "\n",
    "  pattern = re.compile(word)\n",
    "  \n",
    "  match = pattern.search(text)\n",
    "  \n",
    "  if match:\n",
    "    \n",
    "    substring = match.group()\n",
    "    position = match.span()\n",
    "    \n",
    "    print(f\"{substring}' {position}\")\n",
    "  else:\n",
    "    print(f\"The word '{word}' is not found in the text\")\n",
    "\n"
   ]
  },
  {
   "cell_type": "code",
   "execution_count": 35,
   "id": "8d82e649",
   "metadata": {},
   "outputs": [
    {
     "name": "stdout",
     "output_type": "stream",
     "text": [
      "'fox'(16, 19)\n"
     ]
    }
   ],
   "source": [
    "# Write a Python program to search a literals string in a string with location.\n",
    "\n",
    "\n",
    "import re\n",
    "\n",
    "text = 'The quick brown fox jumps over the lazy dog.'\n",
    "word = 'fox'\n",
    "\n",
    "pattern = re.compile(word)\n",
    "match = pattern.search(text)\n",
    "if match:\n",
    "  substring = match.group()\n",
    "  position = match.span()\n",
    "  print(f\"'{substring}'{position}\")\n",
    "else:\n",
    "  print(f\"The word '{word}' is not found in the text\")\n"
   ]
  },
  {
   "cell_type": "code",
   "execution_count": 32,
   "id": "afdb020d",
   "metadata": {},
   "outputs": [
    {
     "name": "stdout",
     "output_type": "stream",
     "text": [
      "['exercises', 'exercises', 'exercises']\n"
     ]
    }
   ],
   "source": [
    "# Write a Python program to find the substrings within a string.\n",
    "\n",
    "\n",
    "import re\n",
    "\n",
    "text = 'Python exercises, PHP exercises, C# exercises'\n",
    "pattern = 'exercises'\n",
    "pattern = re.compile(pattern)\n",
    "substrings = pattern.findall(text)\n",
    "print(substrings)\n"
   ]
  },
  {
   "cell_type": "code",
   "execution_count": 31,
   "id": "d3cfd6b9",
   "metadata": {},
   "outputs": [
    {
     "name": "stdout",
     "output_type": "stream",
     "text": [
      "25-09-2019\n"
     ]
    }
   ],
   "source": [
    "# Write a Python program to convert a date of yyyy-mm-dd format to dd-mm-yyyy format.\n",
    "\n",
    "import re\n",
    "\n",
    "date = \"2019-09-25\"\n",
    "\n",
    "pattern = re.compile(r\"(\\d{4})-(\\d{2})-(\\d{2})\")\n",
    "\n",
    "new_date = pattern.sub(r\"\\3-\\2-\\1\", date)\n",
    "\n",
    "print(new_date)\n"
   ]
  },
  {
   "cell_type": "code",
   "execution_count": 28,
   "id": "507d9700",
   "metadata": {},
   "outputs": [
    {
     "name": "stdout",
     "output_type": "stream",
     "text": [
      "['01.12', '0132.12', '2.31', '145.8', '3.01', '27.25', '0.25']\n"
     ]
    }
   ],
   "source": [
    "# Create a function in python to find all decimal numbers with a precision of 1 or 2 in a string.\n",
    "\n",
    "\n",
    "import re\n",
    "\n",
    "def find_decimals(text):\n",
    "  pattern = re.compile(r\"\\d+\\.\\d{1,2}\")\n",
    "  decimals = pattern.findall(text)\n",
    "  return decimals\n",
    "text = \"01.12 0132.123 2.31875 145.8 3.01 27.25 0.25\"\n",
    "print(find_decimals(text))\n"
   ]
  },
  {
   "cell_type": "code",
   "execution_count": 24,
   "id": "e66f8031",
   "metadata": {},
   "outputs": [
    {
     "name": "stdout",
     "output_type": "stream",
     "text": [
      "220 (10, 13)\n",
      "55 (26, 28)\n"
     ]
    }
   ],
   "source": [
    "# Write a Python program to separate and print the numbers and their position of a given string.\n",
    "\n",
    "\n",
    "import re\n",
    "\n",
    "text = \"There are 220 oranges and 55 apples\"\n",
    "pattern = re.compile(r\"\\d+\")\n",
    "matches = pattern.finditer(text)\n",
    "for match in matches:\n",
    "  number = match.group()\n",
    "  position = match.span()\n",
    "  print(number, position)\n"
   ]
  },
  {
   "cell_type": "code",
   "execution_count": 25,
   "id": "eead1f81",
   "metadata": {},
   "outputs": [
    {
     "name": "stdout",
     "output_type": "stream",
     "text": [
      "950\n"
     ]
    }
   ],
   "source": [
    "# Regex to extract largest/maximum numeric value from a string.\n",
    "\n",
    "import re\n",
    "\n",
    "text = 'My marks in each semester are: 947, 896, 926, 524, 734, 950, 642'\n",
    "numbers = re.findall(r'\\d+', text)\n",
    "max_number = max(map(int, numbers))\n",
    "print(max_number)\n"
   ]
  },
  {
   "cell_type": "code",
   "execution_count": 18,
   "id": "bf2f266b",
   "metadata": {},
   "outputs": [
    {
     "name": "stdout",
     "output_type": "stream",
     "text": [
      "['The', 'Brown', 'Fox', 'Dog']\n"
     ]
    }
   ],
   "source": [
    "# - Python regex to find sequences of one upper case letter followed by lower case letters.\n",
    "\n",
    "import re\n",
    "\n",
    "text = \"'The quick Brown Fox jumps over the lazy Dog.'\"\n",
    "pattern = re.compile(r\"[A-Z][a-z]+\")\n",
    "matches = pattern.findall(text)\n",
    "print(matches)\n"
   ]
  },
  {
   "cell_type": "code",
   "execution_count": 18,
   "id": "d30a66a2",
   "metadata": {},
   "outputs": [
    {
     "name": "stdout",
     "output_type": "stream",
     "text": [
      "Hello hello world\n"
     ]
    }
   ],
   "source": [
    "# Python program to remove continuous duplicate words from Sentence using Regular Expression.\n",
    "\n",
    "import re\n",
    "string_1=\"Hello hello world world\"\n",
    "regex = r'\\b(\\w+)(?:\\W+\\1\\b)+'\n",
    "x= re.sub(regex,r'\\1',string_1)\n",
    "print(x)\n"
   ]
  },
  {
   "cell_type": "code",
   "execution_count": 16,
   "id": "dd55e12f",
   "metadata": {},
   "outputs": [
    {
     "name": "stdout",
     "output_type": "stream",
     "text": [
      "['#Doltiwal', '#xyzabc', '#Demonetization']\n"
     ]
    }
   ],
   "source": [
    "# Write a python program using RegEx to extract the hashtags,\n",
    "\n",
    "\n",
    "import re\n",
    "\n",
    "text = \"\"\"RT @kapil_kausik: #Doltiwal I mean #xyzabc is \"hurt\" by #Demonetization as the same has rendered USELESS <ed><U+00A0><U+00BD><ed><U+00B1><U+0089> \"acquired funds\" No wo\"\"\"\n",
    "pattern = re.compile(r\"#\\w+\")\n",
    "hashtags = pattern.findall(text)\n",
    "print(hashtags)\n"
   ]
  },
  {
   "cell_type": "code",
   "execution_count": 15,
   "id": "33c4be4d",
   "metadata": {},
   "outputs": [
    {
     "name": "stdout",
     "output_type": "stream",
     "text": [
      "@Jags123456 Bharat band on 28??<ed><ed>Those who  are protesting #demonetization  are all different party leaders\n"
     ]
    }
   ],
   "source": [
    "# Write a python program using RegEx to remove <U+..> like symbols\n",
    "\n",
    "import re\n",
    "\n",
    "text = \"@Jags123456 Bharat band on 28??<ed><U+00A0><U+00BD><ed><U+00B8><U+0082>Those who  are protesting #demonetization  are all different party leaders\"\n",
    "pattern = re.compile(r\"<U\\+\\w+>\")\n",
    "result = pattern.sub(\"\", text)\n",
    "print(result)\n"
   ]
  },
  {
   "cell_type": "code",
   "execution_count": 14,
   "id": "82352f97",
   "metadata": {},
   "outputs": [
    {
     "name": "stdout",
     "output_type": "stream",
     "text": [
      "['12-09-1992', '15-12-1999']\n"
     ]
    }
   ],
   "source": [
    "# Write a python program to extract dates from the text stored in the text file.\n",
    "\n",
    "\n",
    "import re\n",
    "\n",
    "with open(\"sample.txt\", \"w\") as f:\n",
    "  f.write(\"Ron was born on 12-09-1992 and he was admitted to school 15-12-1999.\")\n",
    "\n",
    "\n",
    "with open(\"sample.txt\", \"r\") as f:\n",
    "  text = f.read()\n",
    "  pattern = re.compile(r\"\\d{2}-\\d{2}-\\d{4}\")\n",
    "  dates = pattern.findall(text)\n",
    "  print(dates)\n"
   ]
  },
  {
   "cell_type": "code",
   "execution_count": 11,
   "id": "dfcc9a47",
   "metadata": {},
   "outputs": [
    {
     "name": "stdout",
     "output_type": "stream",
     "text": [
      " following example creates  ArrayList  a capacity   elements. 4 elements   added   ArrayList   ArrayList  trimmed accordingly.\n",
      " following example creates  ArrayList  a capacity   elements. 4 elements   added   ArrayList   ArrayList  trimmed accordingly.\n"
     ]
    }
   ],
   "source": [
    "# function in python to remove all words from a string of length between 2 and 4.\n",
    "\n",
    "\n",
    "import re\n",
    "def remove_words(text,min_len,max_len):   \n",
    "    text= \"The following example creates an ArrayList with a capacity of 50 elements. 4 elements are then added to the ArrayList and the ArrayList is trimmed accordingly.\" # remove this line\n",
    "    pattern =  re.compile(r\"\\b\\w{\" + str(min_len) + \",\" + str(max_len) + r\"}\\b\")\n",
    "    result = pattern.sub(\"\",text)\n",
    "    print(result) \n",
    "    return result \n",
    "print (remove_words(text, 2, 4)) "
   ]
  },
  {
   "cell_type": "code",
   "execution_count": 1,
   "id": "33c46dca",
   "metadata": {},
   "outputs": [
    {
     "name": "stdout",
     "output_type": "stream",
     "text": [
      "The numbers and their positions are:\n",
      "4 at 10\n",
      "0 at 11\n",
      "3 at 45\n",
      "5 at 46\n"
     ]
    }
   ],
   "source": [
    "#  Write a Python program to separate and print the numbers and their position of a given string.\n",
    "\n",
    "\n",
    "import re\n",
    "s = \"There are 40 students in the classroom A and 35 students in classroom B\"\n",
    "matches = re.finditer(\"\\d\", s)\n",
    "\n",
    "print(\"The numbers and their positions are:\")\n",
    "for match in matches:\n",
    "  num = match.group()\n",
    "  pos = match.start()\n",
    "  print(num, \"at\", pos)\n"
   ]
  },
  {
   "cell_type": "code",
   "execution_count": 4,
   "id": "1ea8e522",
   "metadata": {},
   "outputs": [
    {
     "name": "stdout",
     "output_type": "stream",
     "text": [
      "Enter a string: datatrained2023\n",
      "String Accepted\n"
     ]
    }
   ],
   "source": [
    "# Write a python program using RegEx to accept string ending with alphanumeric character.\n",
    "\n",
    "import re\n",
    "\n",
    "pattern = \"^[A-Za-z0-9].*[A-Za-z0-9]$\"\n",
    "\n",
    "x = input(\"Enter a string: \")\n",
    "result = re.match(pattern, x)\n",
    "if result:\n",
    "  print(\"String Accepted\")\n",
    "else:\n",
    "  print(\"String Rejected\")\n"
   ]
  },
  {
   "cell_type": "code",
   "execution_count": 9,
   "id": "298a9a9d",
   "metadata": {},
   "outputs": [
    {
     "name": "stdout",
     "output_type": "stream",
     "text": [
      "Enter a string: Karan_123\n",
      "Valid string\n"
     ]
    }
   ],
   "source": [
    "# Write a Python program to match a string that contains only upper and lowercase letters, numbers, and underscores\n",
    "\n",
    "\n",
    "import re\n",
    "\n",
    "pattern = \"^\\w+$\"\n",
    "text = input(\"Enter a string: \")\n",
    "match = re.match(pattern, text)\n",
    "if match:\n",
    "  print(\"Valid string\")\n",
    "else:\n",
    "  print(\"Invalid string\")\n"
   ]
  },
  {
   "cell_type": "code",
   "execution_count": 11,
   "id": "d496a706",
   "metadata": {},
   "outputs": [
    {
     "name": "stdout",
     "output_type": "stream",
     "text": [
      "Enter a string: 25 students are present\n",
      "Valid string\n"
     ]
    }
   ],
   "source": [
    "# Write a Python program where a string will start with a specific number. \n",
    "\n",
    "\n",
    "import re\n",
    "\n",
    "number = \"25\"\n",
    "pattern = \"^\" + number\n",
    "x = input(\"Enter a string: \")\n",
    "match = re.search(pattern, x)\n",
    "if match:\n",
    "  print(\"Valid string\")\n",
    "else:\n",
    "  print(\"Invalid string\")\n"
   ]
  },
  {
   "cell_type": "code",
   "execution_count": null,
   "id": "ab370d37",
   "metadata": {},
   "outputs": [],
   "source": []
  }
 ],
 "metadata": {
  "kernelspec": {
   "display_name": "Python 3 (ipykernel)",
   "language": "python",
   "name": "python3"
  },
  "language_info": {
   "codemirror_mode": {
    "name": "ipython",
    "version": 3
   },
   "file_extension": ".py",
   "mimetype": "text/x-python",
   "name": "python",
   "nbconvert_exporter": "python",
   "pygments_lexer": "ipython3",
   "version": "3.9.13"
  }
 },
 "nbformat": 4,
 "nbformat_minor": 5
}
